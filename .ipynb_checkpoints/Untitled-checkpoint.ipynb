{
 "cells": [
  {
   "cell_type": "code",
   "execution_count": 34,
   "id": "be699415-bf98-4292-a8e7-806012fd4881",
   "metadata": {},
   "outputs": [],
   "source": [
    "import tensorflow as tf\n",
    "import numpy as np\n",
    "import pandas as pd\n",
    "import matplotlib.pyplot as plt\n",
    "import matplotlib.image as mpimg\n",
    "import random\n",
    "from tensorflow.keras.preprocessing.image import ImageDataGenerator\n",
    "from tensorflow.keras.optimizers import Adam\n",
    "from tensorflow.keras import layers\n",
    "from tensorflow.keras.layers import Dense, Flatten, Conv2D, MaxPool2D, Activation\n",
    "from tensorflow.keras import Sequential\n",
    "import shutil"
   ]
  },
  {
   "cell_type": "code",
   "execution_count": 2,
   "id": "45c8ce48-6882-42be-981a-fb6666e9aa74",
   "metadata": {},
   "outputs": [
    {
     "name": "stdout",
     "output_type": "stream",
     "text": [
      "2.3.0\n"
     ]
    }
   ],
   "source": [
    "print(tf.__version__)\n"
   ]
  },
  {
   "cell_type": "code",
   "execution_count": 21,
   "id": "c2963cb5-6353-4554-937f-3a37ff750fc7",
   "metadata": {},
   "outputs": [],
   "source": [
    "import glob\n",
    "\n",
    "data=glob.glob(\"../archive/trainsceneclassification/train/*.jpg\")\n",
    "classes=pd.read_csv(\"../archive/trainsceneclassification/train.csv\")"
   ]
  },
  {
   "cell_type": "code",
   "execution_count": 24,
   "id": "00def386-64ed-425a-a490-3a25051af801",
   "metadata": {},
   "outputs": [],
   "source": [
    "classes[\"image_name\"]=\"../archive/trainsceneclassification/train/\"+ classes[\"image_name\"]"
   ]
  },
  {
   "cell_type": "code",
   "execution_count": 29,
   "id": "14df9978-3abe-4926-82b7-c2b5a52b86a8",
   "metadata": {},
   "outputs": [
    {
     "name": "stdout",
     "output_type": "stream",
     "text": [
      "<class 'pandas.core.frame.DataFrame'>\n",
      "RangeIndex: 17034 entries, 0 to 17033\n",
      "Data columns (total 2 columns):\n",
      " #   Column      Non-Null Count  Dtype \n",
      "---  ------      --------------  ----- \n",
      " 0   image_name  17034 non-null  object\n",
      " 1   label       17034 non-null  int64 \n",
      "dtypes: int64(1), object(1)\n",
      "memory usage: 266.3+ KB\n"
     ]
    }
   ],
   "source": [
    "classes.info()"
   ]
  },
  {
   "cell_type": "code",
   "execution_count": 46,
   "id": "2cf2a833-c0ef-4cb9-880e-6daa882b0aa6",
   "metadata": {},
   "outputs": [],
   "source": [
    "for i in range(0,len(classes)):\n",
    "    if classes.iloc[i,1]==0:\n",
    "        shutil.move(classes.iloc[i,0],\"../archive/trainsceneclassification/train/buildings\")\n",
    "    if classes.iloc[i,1]==1:\n",
    "        shutil.move(classes.iloc[i,0],\"../archive/trainsceneclassification/train/forest\")\n",
    "    if classes.iloc[i,1]==2:\n",
    "        shutil.move(classes.iloc[i,0],\"../archive/trainsceneclassification/train/glacier\")\n",
    "    if classes.iloc[i,1]==3:\n",
    "        shutil.move(classes.iloc[i,0],\"../archive/trainsceneclassification/train/mountain\")\n",
    "    if classes.iloc[i,1]==4:\n",
    "        shutil.move(classes.iloc[i,0],\"../archive/trainsceneclassification/train/sea\")\n",
    "    if classes.iloc[i,1]==5:\n",
    "        shutil.move(classes.iloc[i,0],\"../archive/trainsceneclassification/train/street\")"
   ]
  },
  {
   "cell_type": "code",
   "execution_count": 43,
   "id": "d1365eea-0f55-406b-bc90-22904b8fe9b3",
   "metadata": {},
   "outputs": [
    {
     "data": {
      "text/plain": [
       "'0.jpg'"
      ]
     },
     "execution_count": 43,
     "metadata": {},
     "output_type": "execute_result"
    }
   ],
   "source": [
    "classes.iloc[0,0].split(\"/\")[4]"
   ]
  }
 ],
 "metadata": {
  "kernelspec": {
   "display_name": "Python 3",
   "language": "python",
   "name": "python3"
  },
  "language_info": {
   "codemirror_mode": {
    "name": "ipython",
    "version": 3
   },
   "file_extension": ".py",
   "mimetype": "text/x-python",
   "name": "python",
   "nbconvert_exporter": "python",
   "pygments_lexer": "ipython3",
   "version": "3.7.6"
  }
 },
 "nbformat": 4,
 "nbformat_minor": 5
}
